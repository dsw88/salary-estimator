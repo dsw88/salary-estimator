{
 "cells": [
  {
   "cell_type": "markdown",
   "metadata": {},
   "source": [
    "First, load our prepared data from the StackOverflow survey:"
   ]
  },
  {
   "cell_type": "code",
   "execution_count": 64,
   "metadata": {},
   "outputs": [],
   "source": [
    "import pandas as pd\n",
    "import numpy as np\n",
    "from sklearn import preprocessing\n",
    "from sklearn import linear_model\n",
    "from sklearn.model_selection import train_test_split\n",
    "\n",
    "salary_features = pd.read_csv(\"../prepared-data/salary_features.csv\")\n",
    "salary_labels = pd.read_csv(\"../prepared-data/salary_labels.csv\")"
   ]
  },
  {
   "cell_type": "code",
   "execution_count": 65,
   "metadata": {
    "collapsed": true
   },
   "outputs": [],
   "source": [
    "X_encoded = pd.get_dummies(salary_features)\n",
    "X_train, X_test, Y_train, Y_test = train_test_split(X_encoded, salary_labels, test_size=0.2, train_size=0.8)"
   ]
  },
  {
   "cell_type": "code",
   "execution_count": 66,
   "metadata": {},
   "outputs": [
    {
     "data": {
      "text/html": [
       "<div>\n",
       "<style>\n",
       "    .dataframe thead tr:only-child th {\n",
       "        text-align: right;\n",
       "    }\n",
       "\n",
       "    .dataframe thead th {\n",
       "        text-align: left;\n",
       "    }\n",
       "\n",
       "    .dataframe tbody tr th {\n",
       "        vertical-align: top;\n",
       "    }\n",
       "</style>\n",
       "<table border=\"1\" class=\"dataframe\">\n",
       "  <thead>\n",
       "    <tr style=\"text-align: right;\">\n",
       "      <th></th>\n",
       "      <th>Country_Afghanistan</th>\n",
       "      <th>Country_Albania</th>\n",
       "      <th>Country_Anguilla</th>\n",
       "      <th>Country_Argentina</th>\n",
       "      <th>Country_Armenia</th>\n",
       "      <th>Country_Australia</th>\n",
       "      <th>Country_Austria</th>\n",
       "      <th>Country_Azerbaidjan</th>\n",
       "      <th>Country_Bahrain</th>\n",
       "      <th>Country_Bangladesh</th>\n",
       "      <th>...</th>\n",
       "      <th>Race_Middle Eastern; White or of European descent; I don’t know; I prefer not to say</th>\n",
       "      <th>Race_Native American, Pacific Islander, or Indigenous Australian</th>\n",
       "      <th>Race_Native American, Pacific Islander, or Indigenous Australian; I don’t know</th>\n",
       "      <th>Race_Native American, Pacific Islander, or Indigenous Australian; White or of European descent</th>\n",
       "      <th>Race_South Asian</th>\n",
       "      <th>Race_South Asian; White or of European descent</th>\n",
       "      <th>Race_White or of European descent</th>\n",
       "      <th>Race_White or of European descent; I don’t know</th>\n",
       "      <th>Race_White or of European descent; I don’t know; I prefer not to say</th>\n",
       "      <th>Race_White or of European descent; I prefer not to say</th>\n",
       "    </tr>\n",
       "  </thead>\n",
       "  <tbody>\n",
       "    <tr>\n",
       "      <th>2038</th>\n",
       "      <td>0</td>\n",
       "      <td>0</td>\n",
       "      <td>0</td>\n",
       "      <td>0</td>\n",
       "      <td>0</td>\n",
       "      <td>0</td>\n",
       "      <td>0</td>\n",
       "      <td>0</td>\n",
       "      <td>0</td>\n",
       "      <td>0</td>\n",
       "      <td>...</td>\n",
       "      <td>0</td>\n",
       "      <td>0</td>\n",
       "      <td>0</td>\n",
       "      <td>0</td>\n",
       "      <td>0</td>\n",
       "      <td>0</td>\n",
       "      <td>1</td>\n",
       "      <td>0</td>\n",
       "      <td>0</td>\n",
       "      <td>0</td>\n",
       "    </tr>\n",
       "    <tr>\n",
       "      <th>1008</th>\n",
       "      <td>0</td>\n",
       "      <td>0</td>\n",
       "      <td>0</td>\n",
       "      <td>0</td>\n",
       "      <td>0</td>\n",
       "      <td>0</td>\n",
       "      <td>0</td>\n",
       "      <td>0</td>\n",
       "      <td>0</td>\n",
       "      <td>0</td>\n",
       "      <td>...</td>\n",
       "      <td>0</td>\n",
       "      <td>0</td>\n",
       "      <td>0</td>\n",
       "      <td>0</td>\n",
       "      <td>0</td>\n",
       "      <td>0</td>\n",
       "      <td>0</td>\n",
       "      <td>0</td>\n",
       "      <td>0</td>\n",
       "      <td>0</td>\n",
       "    </tr>\n",
       "    <tr>\n",
       "      <th>1091</th>\n",
       "      <td>0</td>\n",
       "      <td>0</td>\n",
       "      <td>0</td>\n",
       "      <td>0</td>\n",
       "      <td>0</td>\n",
       "      <td>0</td>\n",
       "      <td>0</td>\n",
       "      <td>0</td>\n",
       "      <td>0</td>\n",
       "      <td>0</td>\n",
       "      <td>...</td>\n",
       "      <td>0</td>\n",
       "      <td>0</td>\n",
       "      <td>0</td>\n",
       "      <td>0</td>\n",
       "      <td>0</td>\n",
       "      <td>0</td>\n",
       "      <td>1</td>\n",
       "      <td>0</td>\n",
       "      <td>0</td>\n",
       "      <td>0</td>\n",
       "    </tr>\n",
       "    <tr>\n",
       "      <th>9952</th>\n",
       "      <td>0</td>\n",
       "      <td>0</td>\n",
       "      <td>0</td>\n",
       "      <td>0</td>\n",
       "      <td>0</td>\n",
       "      <td>0</td>\n",
       "      <td>0</td>\n",
       "      <td>0</td>\n",
       "      <td>0</td>\n",
       "      <td>0</td>\n",
       "      <td>...</td>\n",
       "      <td>0</td>\n",
       "      <td>0</td>\n",
       "      <td>0</td>\n",
       "      <td>0</td>\n",
       "      <td>0</td>\n",
       "      <td>0</td>\n",
       "      <td>1</td>\n",
       "      <td>0</td>\n",
       "      <td>0</td>\n",
       "      <td>0</td>\n",
       "    </tr>\n",
       "    <tr>\n",
       "      <th>7517</th>\n",
       "      <td>0</td>\n",
       "      <td>0</td>\n",
       "      <td>0</td>\n",
       "      <td>0</td>\n",
       "      <td>0</td>\n",
       "      <td>0</td>\n",
       "      <td>0</td>\n",
       "      <td>0</td>\n",
       "      <td>0</td>\n",
       "      <td>0</td>\n",
       "      <td>...</td>\n",
       "      <td>0</td>\n",
       "      <td>0</td>\n",
       "      <td>0</td>\n",
       "      <td>0</td>\n",
       "      <td>0</td>\n",
       "      <td>0</td>\n",
       "      <td>0</td>\n",
       "      <td>0</td>\n",
       "      <td>0</td>\n",
       "      <td>0</td>\n",
       "    </tr>\n",
       "  </tbody>\n",
       "</table>\n",
       "<p>5 rows × 1244 columns</p>\n",
       "</div>"
      ],
      "text/plain": [
       "      Country_Afghanistan  Country_Albania  Country_Anguilla  \\\n",
       "2038                    0                0                 0   \n",
       "1008                    0                0                 0   \n",
       "1091                    0                0                 0   \n",
       "9952                    0                0                 0   \n",
       "7517                    0                0                 0   \n",
       "\n",
       "      Country_Argentina  Country_Armenia  Country_Australia  Country_Austria  \\\n",
       "2038                  0                0                  0                0   \n",
       "1008                  0                0                  0                0   \n",
       "1091                  0                0                  0                0   \n",
       "9952                  0                0                  0                0   \n",
       "7517                  0                0                  0                0   \n",
       "\n",
       "      Country_Azerbaidjan  Country_Bahrain  Country_Bangladesh  \\\n",
       "2038                    0                0                   0   \n",
       "1008                    0                0                   0   \n",
       "1091                    0                0                   0   \n",
       "9952                    0                0                   0   \n",
       "7517                    0                0                   0   \n",
       "\n",
       "                               ...                            \\\n",
       "2038                           ...                             \n",
       "1008                           ...                             \n",
       "1091                           ...                             \n",
       "9952                           ...                             \n",
       "7517                           ...                             \n",
       "\n",
       "      Race_Middle Eastern; White or of European descent; I don’t know; I prefer not to say  \\\n",
       "2038                                                  0                                      \n",
       "1008                                                  0                                      \n",
       "1091                                                  0                                      \n",
       "9952                                                  0                                      \n",
       "7517                                                  0                                      \n",
       "\n",
       "      Race_Native American, Pacific Islander, or Indigenous Australian  \\\n",
       "2038                                                  0                  \n",
       "1008                                                  0                  \n",
       "1091                                                  0                  \n",
       "9952                                                  0                  \n",
       "7517                                                  0                  \n",
       "\n",
       "      Race_Native American, Pacific Islander, or Indigenous Australian; I don’t know  \\\n",
       "2038                                                  0                                \n",
       "1008                                                  0                                \n",
       "1091                                                  0                                \n",
       "9952                                                  0                                \n",
       "7517                                                  0                                \n",
       "\n",
       "      Race_Native American, Pacific Islander, or Indigenous Australian; White or of European descent  \\\n",
       "2038                                                  0                                                \n",
       "1008                                                  0                                                \n",
       "1091                                                  0                                                \n",
       "9952                                                  0                                                \n",
       "7517                                                  0                                                \n",
       "\n",
       "      Race_South Asian  Race_South Asian; White or of European descent  \\\n",
       "2038                 0                                               0   \n",
       "1008                 0                                               0   \n",
       "1091                 0                                               0   \n",
       "9952                 0                                               0   \n",
       "7517                 0                                               0   \n",
       "\n",
       "      Race_White or of European descent  \\\n",
       "2038                                  1   \n",
       "1008                                  0   \n",
       "1091                                  1   \n",
       "9952                                  1   \n",
       "7517                                  0   \n",
       "\n",
       "      Race_White or of European descent; I don’t know  \\\n",
       "2038                                                0   \n",
       "1008                                                0   \n",
       "1091                                                0   \n",
       "9952                                                0   \n",
       "7517                                                0   \n",
       "\n",
       "      Race_White or of European descent; I don’t know; I prefer not to say  \\\n",
       "2038                                                  0                      \n",
       "1008                                                  0                      \n",
       "1091                                                  0                      \n",
       "9952                                                  0                      \n",
       "7517                                                  0                      \n",
       "\n",
       "      Race_White or of European descent; I prefer not to say  \n",
       "2038                                                  0       \n",
       "1008                                                  0       \n",
       "1091                                                  0       \n",
       "9952                                                  0       \n",
       "7517                                                  0       \n",
       "\n",
       "[5 rows x 1244 columns]"
      ]
     },
     "execution_count": 66,
     "metadata": {},
     "output_type": "execute_result"
    }
   ],
   "source": [
    "X_train.head(5)"
   ]
  },
  {
   "cell_type": "code",
   "execution_count": 67,
   "metadata": {},
   "outputs": [
    {
     "data": {
      "text/html": [
       "<div>\n",
       "<style>\n",
       "    .dataframe thead tr:only-child th {\n",
       "        text-align: right;\n",
       "    }\n",
       "\n",
       "    .dataframe thead th {\n",
       "        text-align: left;\n",
       "    }\n",
       "\n",
       "    .dataframe tbody tr th {\n",
       "        vertical-align: top;\n",
       "    }\n",
       "</style>\n",
       "<table border=\"1\" class=\"dataframe\">\n",
       "  <thead>\n",
       "    <tr style=\"text-align: right;\">\n",
       "      <th></th>\n",
       "      <th>Salary</th>\n",
       "    </tr>\n",
       "  </thead>\n",
       "  <tbody>\n",
       "    <tr>\n",
       "      <th>2038</th>\n",
       "      <td>32098.765432</td>\n",
       "    </tr>\n",
       "    <tr>\n",
       "      <th>1008</th>\n",
       "      <td>90206.185567</td>\n",
       "    </tr>\n",
       "    <tr>\n",
       "      <th>1091</th>\n",
       "      <td>120000.000000</td>\n",
       "    </tr>\n",
       "    <tr>\n",
       "      <th>9952</th>\n",
       "      <td>16666.666667</td>\n",
       "    </tr>\n",
       "    <tr>\n",
       "      <th>7517</th>\n",
       "      <td>64102.564103</td>\n",
       "    </tr>\n",
       "  </tbody>\n",
       "</table>\n",
       "</div>"
      ],
      "text/plain": [
       "             Salary\n",
       "2038   32098.765432\n",
       "1008   90206.185567\n",
       "1091  120000.000000\n",
       "9952   16666.666667\n",
       "7517   64102.564103"
      ]
     },
     "execution_count": 67,
     "metadata": {},
     "output_type": "execute_result"
    }
   ],
   "source": [
    "Y_train.head(5)"
   ]
  },
  {
   "cell_type": "code",
   "execution_count": 68,
   "metadata": {},
   "outputs": [
    {
     "name": "stdout",
     "output_type": "stream",
     "text": [
      "(10312, 1244)\n",
      "(10312, 1)\n",
      "(2579, 1244)\n",
      "(2579, 1)\n"
     ]
    }
   ],
   "source": [
    "print(X_train.shape)\n",
    "print(Y_train.shape)\n",
    "print(X_test.shape)\n",
    "print(Y_test.shape)\n",
    "\n",
    "# 1244 features after one-hot encoding the categorical values (this may vary based on the data)"
   ]
  },
  {
   "cell_type": "code",
   "execution_count": 70,
   "metadata": {},
   "outputs": [
    {
     "data": {
      "text/plain": [
       "LinearRegression(copy_X=True, fit_intercept=True, n_jobs=1, normalize=False)"
      ]
     },
     "execution_count": 70,
     "metadata": {},
     "output_type": "execute_result"
    }
   ],
   "source": [
    "reg = linear_model.LinearRegression()\n",
    "reg.fit(X_train, Y_train)"
   ]
  },
  {
   "cell_type": "code",
   "execution_count": 71,
   "metadata": {},
   "outputs": [
    {
     "data": {
      "text/plain": [
       "array([[  2.45785655e+15,   2.45785655e+15,   2.45785655e+15, ...,\n",
       "         -1.42119104e+04,   1.95306462e+03,  -2.15786644e+03]])"
      ]
     },
     "execution_count": 71,
     "metadata": {},
     "output_type": "execute_result"
    }
   ],
   "source": [
    "reg.coef_"
   ]
  },
  {
   "cell_type": "code",
   "execution_count": 72,
   "metadata": {},
   "outputs": [
    {
     "data": {
      "text/plain": [
       "-7.7448250875164941e+23"
      ]
     },
     "execution_count": 72,
     "metadata": {},
     "output_type": "execute_result"
    }
   ],
   "source": [
    "reg.score(X_test, Y_test)"
   ]
  },
  {
   "cell_type": "code",
   "execution_count": null,
   "metadata": {
    "collapsed": true
   },
   "outputs": [],
   "source": []
  }
 ],
 "metadata": {
  "kernelspec": {
   "display_name": "Python 3",
   "language": "python",
   "name": "python3"
  },
  "language_info": {
   "codemirror_mode": {
    "name": "ipython",
    "version": 3
   },
   "file_extension": ".py",
   "mimetype": "text/x-python",
   "name": "python",
   "nbconvert_exporter": "python",
   "pygments_lexer": "ipython3",
   "version": "3.6.0"
  }
 },
 "nbformat": 4,
 "nbformat_minor": 2
}

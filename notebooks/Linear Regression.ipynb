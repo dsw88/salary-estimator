{
 "cells": [
  {
   "cell_type": "markdown",
   "metadata": {},
   "source": [
    "First, load our prepared data from the StackOverflow survey:"
   ]
  },
  {
   "cell_type": "code",
   "execution_count": 1,
   "metadata": {
    "collapsed": true
   },
   "outputs": [],
   "source": [
    "import pandas as pd\n",
    "import numpy as np\n",
    "from sklearn import preprocessing\n",
    "from sklearn import linear_model\n",
    "from sklearn.model_selection import train_test_split\n",
    "\n",
    "salary_features = pd.read_csv(\"../prepared-data/salary_features.csv\")\n",
    "salary_labels = pd.read_csv(\"../prepared-data/salary_labels.csv\")"
   ]
  },
  {
   "cell_type": "code",
   "execution_count": 2,
   "metadata": {
    "collapsed": true
   },
   "outputs": [],
   "source": [
    "X_encoded = pd.get_dummies(salary_features)\n",
    "X_train, X_test, Y_train, Y_test = train_test_split(X_encoded, salary_labels, test_size=0.2, train_size=0.8)"
   ]
  },
  {
   "cell_type": "code",
   "execution_count": 3,
   "metadata": {},
   "outputs": [
    {
     "data": {
      "text/html": [
       "<div>\n",
       "<style>\n",
       "    .dataframe thead tr:only-child th {\n",
       "        text-align: right;\n",
       "    }\n",
       "\n",
       "    .dataframe thead th {\n",
       "        text-align: left;\n",
       "    }\n",
       "\n",
       "    .dataframe tbody tr th {\n",
       "        vertical-align: top;\n",
       "    }\n",
       "</style>\n",
       "<table border=\"1\" class=\"dataframe\">\n",
       "  <thead>\n",
       "    <tr style=\"text-align: right;\">\n",
       "      <th></th>\n",
       "      <th>FormalEducation_Bachelor's degree</th>\n",
       "      <th>FormalEducation_Doctoral degree</th>\n",
       "      <th>FormalEducation_I never completed any formal education</th>\n",
       "      <th>FormalEducation_I prefer not to answer</th>\n",
       "      <th>FormalEducation_Master's degree</th>\n",
       "      <th>FormalEducation_Primary/elementary school</th>\n",
       "      <th>FormalEducation_Professional degree</th>\n",
       "      <th>FormalEducation_Secondary school</th>\n",
       "      <th>FormalEducation_Some college/university study without earning a bachelor's degree</th>\n",
       "      <th>CompanySize_1,000 to 4,999 employees</th>\n",
       "      <th>...</th>\n",
       "      <th>YearsCodedJob_2 to 3 years</th>\n",
       "      <th>YearsCodedJob_20 or more years</th>\n",
       "      <th>YearsCodedJob_3 to 4 years</th>\n",
       "      <th>YearsCodedJob_4 to 5 years</th>\n",
       "      <th>YearsCodedJob_5 to 6 years</th>\n",
       "      <th>YearsCodedJob_6 to 7 years</th>\n",
       "      <th>YearsCodedJob_7 to 8 years</th>\n",
       "      <th>YearsCodedJob_8 to 9 years</th>\n",
       "      <th>YearsCodedJob_9 to 10 years</th>\n",
       "      <th>YearsCodedJob_Less than a year</th>\n",
       "    </tr>\n",
       "  </thead>\n",
       "  <tbody>\n",
       "    <tr>\n",
       "      <th>7391</th>\n",
       "      <td>1</td>\n",
       "      <td>0</td>\n",
       "      <td>0</td>\n",
       "      <td>0</td>\n",
       "      <td>0</td>\n",
       "      <td>0</td>\n",
       "      <td>0</td>\n",
       "      <td>0</td>\n",
       "      <td>0</td>\n",
       "      <td>0</td>\n",
       "      <td>...</td>\n",
       "      <td>0</td>\n",
       "      <td>0</td>\n",
       "      <td>0</td>\n",
       "      <td>1</td>\n",
       "      <td>0</td>\n",
       "      <td>0</td>\n",
       "      <td>0</td>\n",
       "      <td>0</td>\n",
       "      <td>0</td>\n",
       "      <td>0</td>\n",
       "    </tr>\n",
       "    <tr>\n",
       "      <th>2204</th>\n",
       "      <td>1</td>\n",
       "      <td>0</td>\n",
       "      <td>0</td>\n",
       "      <td>0</td>\n",
       "      <td>0</td>\n",
       "      <td>0</td>\n",
       "      <td>0</td>\n",
       "      <td>0</td>\n",
       "      <td>0</td>\n",
       "      <td>0</td>\n",
       "      <td>...</td>\n",
       "      <td>1</td>\n",
       "      <td>0</td>\n",
       "      <td>0</td>\n",
       "      <td>0</td>\n",
       "      <td>0</td>\n",
       "      <td>0</td>\n",
       "      <td>0</td>\n",
       "      <td>0</td>\n",
       "      <td>0</td>\n",
       "      <td>0</td>\n",
       "    </tr>\n",
       "    <tr>\n",
       "      <th>5823</th>\n",
       "      <td>1</td>\n",
       "      <td>0</td>\n",
       "      <td>0</td>\n",
       "      <td>0</td>\n",
       "      <td>0</td>\n",
       "      <td>0</td>\n",
       "      <td>0</td>\n",
       "      <td>0</td>\n",
       "      <td>0</td>\n",
       "      <td>0</td>\n",
       "      <td>...</td>\n",
       "      <td>0</td>\n",
       "      <td>0</td>\n",
       "      <td>0</td>\n",
       "      <td>0</td>\n",
       "      <td>0</td>\n",
       "      <td>1</td>\n",
       "      <td>0</td>\n",
       "      <td>0</td>\n",
       "      <td>0</td>\n",
       "      <td>0</td>\n",
       "    </tr>\n",
       "    <tr>\n",
       "      <th>8211</th>\n",
       "      <td>0</td>\n",
       "      <td>0</td>\n",
       "      <td>0</td>\n",
       "      <td>0</td>\n",
       "      <td>1</td>\n",
       "      <td>0</td>\n",
       "      <td>0</td>\n",
       "      <td>0</td>\n",
       "      <td>0</td>\n",
       "      <td>0</td>\n",
       "      <td>...</td>\n",
       "      <td>0</td>\n",
       "      <td>0</td>\n",
       "      <td>0</td>\n",
       "      <td>0</td>\n",
       "      <td>0</td>\n",
       "      <td>0</td>\n",
       "      <td>0</td>\n",
       "      <td>0</td>\n",
       "      <td>0</td>\n",
       "      <td>1</td>\n",
       "    </tr>\n",
       "    <tr>\n",
       "      <th>9058</th>\n",
       "      <td>1</td>\n",
       "      <td>0</td>\n",
       "      <td>0</td>\n",
       "      <td>0</td>\n",
       "      <td>0</td>\n",
       "      <td>0</td>\n",
       "      <td>0</td>\n",
       "      <td>0</td>\n",
       "      <td>0</td>\n",
       "      <td>0</td>\n",
       "      <td>...</td>\n",
       "      <td>1</td>\n",
       "      <td>0</td>\n",
       "      <td>0</td>\n",
       "      <td>0</td>\n",
       "      <td>0</td>\n",
       "      <td>0</td>\n",
       "      <td>0</td>\n",
       "      <td>0</td>\n",
       "      <td>0</td>\n",
       "      <td>0</td>\n",
       "    </tr>\n",
       "  </tbody>\n",
       "</table>\n",
       "<p>5 rows × 51 columns</p>\n",
       "</div>"
      ],
      "text/plain": [
       "      FormalEducation_Bachelor's degree  FormalEducation_Doctoral degree  \\\n",
       "7391                                  1                                0   \n",
       "2204                                  1                                0   \n",
       "5823                                  1                                0   \n",
       "8211                                  0                                0   \n",
       "9058                                  1                                0   \n",
       "\n",
       "      FormalEducation_I never completed any formal education  \\\n",
       "7391                                                  0        \n",
       "2204                                                  0        \n",
       "5823                                                  0        \n",
       "8211                                                  0        \n",
       "9058                                                  0        \n",
       "\n",
       "      FormalEducation_I prefer not to answer  FormalEducation_Master's degree  \\\n",
       "7391                                       0                                0   \n",
       "2204                                       0                                0   \n",
       "5823                                       0                                0   \n",
       "8211                                       0                                1   \n",
       "9058                                       0                                0   \n",
       "\n",
       "      FormalEducation_Primary/elementary school  \\\n",
       "7391                                          0   \n",
       "2204                                          0   \n",
       "5823                                          0   \n",
       "8211                                          0   \n",
       "9058                                          0   \n",
       "\n",
       "      FormalEducation_Professional degree  FormalEducation_Secondary school  \\\n",
       "7391                                    0                                 0   \n",
       "2204                                    0                                 0   \n",
       "5823                                    0                                 0   \n",
       "8211                                    0                                 0   \n",
       "9058                                    0                                 0   \n",
       "\n",
       "      FormalEducation_Some college/university study without earning a bachelor's degree  \\\n",
       "7391                                                  0                                   \n",
       "2204                                                  0                                   \n",
       "5823                                                  0                                   \n",
       "8211                                                  0                                   \n",
       "9058                                                  0                                   \n",
       "\n",
       "      CompanySize_1,000 to 4,999 employees               ...                \\\n",
       "7391                                     0               ...                 \n",
       "2204                                     0               ...                 \n",
       "5823                                     0               ...                 \n",
       "8211                                     0               ...                 \n",
       "9058                                     0               ...                 \n",
       "\n",
       "      YearsCodedJob_2 to 3 years  YearsCodedJob_20 or more years  \\\n",
       "7391                           0                               0   \n",
       "2204                           1                               0   \n",
       "5823                           0                               0   \n",
       "8211                           0                               0   \n",
       "9058                           1                               0   \n",
       "\n",
       "      YearsCodedJob_3 to 4 years  YearsCodedJob_4 to 5 years  \\\n",
       "7391                           0                           1   \n",
       "2204                           0                           0   \n",
       "5823                           0                           0   \n",
       "8211                           0                           0   \n",
       "9058                           0                           0   \n",
       "\n",
       "      YearsCodedJob_5 to 6 years  YearsCodedJob_6 to 7 years  \\\n",
       "7391                           0                           0   \n",
       "2204                           0                           0   \n",
       "5823                           0                           1   \n",
       "8211                           0                           0   \n",
       "9058                           0                           0   \n",
       "\n",
       "      YearsCodedJob_7 to 8 years  YearsCodedJob_8 to 9 years  \\\n",
       "7391                           0                           0   \n",
       "2204                           0                           0   \n",
       "5823                           0                           0   \n",
       "8211                           0                           0   \n",
       "9058                           0                           0   \n",
       "\n",
       "      YearsCodedJob_9 to 10 years  YearsCodedJob_Less than a year  \n",
       "7391                            0                               0  \n",
       "2204                            0                               0  \n",
       "5823                            0                               0  \n",
       "8211                            0                               1  \n",
       "9058                            0                               0  \n",
       "\n",
       "[5 rows x 51 columns]"
      ]
     },
     "execution_count": 3,
     "metadata": {},
     "output_type": "execute_result"
    }
   ],
   "source": [
    "X_train.head(5)"
   ]
  },
  {
   "cell_type": "code",
   "execution_count": 4,
   "metadata": {},
   "outputs": [
    {
     "data": {
      "text/html": [
       "<div>\n",
       "<style>\n",
       "    .dataframe thead tr:only-child th {\n",
       "        text-align: right;\n",
       "    }\n",
       "\n",
       "    .dataframe thead th {\n",
       "        text-align: left;\n",
       "    }\n",
       "\n",
       "    .dataframe tbody tr th {\n",
       "        vertical-align: top;\n",
       "    }\n",
       "</style>\n",
       "<table border=\"1\" class=\"dataframe\">\n",
       "  <thead>\n",
       "    <tr style=\"text-align: right;\">\n",
       "      <th></th>\n",
       "      <th>Salary</th>\n",
       "    </tr>\n",
       "  </thead>\n",
       "  <tbody>\n",
       "    <tr>\n",
       "      <th>7391</th>\n",
       "      <td>58064.516129</td>\n",
       "    </tr>\n",
       "    <tr>\n",
       "      <th>2204</th>\n",
       "      <td>806.451613</td>\n",
       "    </tr>\n",
       "    <tr>\n",
       "      <th>5823</th>\n",
       "      <td>120000.000000</td>\n",
       "    </tr>\n",
       "    <tr>\n",
       "      <th>8211</th>\n",
       "      <td>19354.838710</td>\n",
       "    </tr>\n",
       "    <tr>\n",
       "      <th>9058</th>\n",
       "      <td>55000.000000</td>\n",
       "    </tr>\n",
       "  </tbody>\n",
       "</table>\n",
       "</div>"
      ],
      "text/plain": [
       "             Salary\n",
       "7391   58064.516129\n",
       "2204     806.451613\n",
       "5823  120000.000000\n",
       "8211   19354.838710\n",
       "9058   55000.000000"
      ]
     },
     "execution_count": 4,
     "metadata": {},
     "output_type": "execute_result"
    }
   ],
   "source": [
    "Y_train.head(5)"
   ]
  },
  {
   "cell_type": "code",
   "execution_count": 5,
   "metadata": {},
   "outputs": [
    {
     "name": "stdout",
     "output_type": "stream",
     "text": [
      "(10312, 51)\n",
      "(10312, 1)\n",
      "(2579, 51)\n",
      "(2579, 1)\n"
     ]
    }
   ],
   "source": [
    "print(X_train.shape)\n",
    "print(Y_train.shape)\n",
    "print(X_test.shape)\n",
    "print(Y_test.shape)\n",
    "\n",
    "# 51 features after one-hot encoding the categorical values (this may vary based on the data)"
   ]
  },
  {
   "cell_type": "code",
   "execution_count": 6,
   "metadata": {},
   "outputs": [
    {
     "name": "stderr",
     "output_type": "stream",
     "text": [
      "/Users/dsw88/.virtualenvs/salary-estimator/lib/python3.6/site-packages/scipy/linalg/basic.py:1018: RuntimeWarning: internal gelsd driver lwork query error, required iwork dimension not returned. This is likely the result of LAPACK bug 0038, fixed in LAPACK 3.2.2 (released July 21, 2010). Falling back to 'gelss' driver.\n",
      "  warnings.warn(mesg, RuntimeWarning)\n"
     ]
    },
    {
     "data": {
      "text/plain": [
       "LinearRegression(copy_X=True, fit_intercept=True, n_jobs=1, normalize=False)"
      ]
     },
     "execution_count": 6,
     "metadata": {},
     "output_type": "execute_result"
    }
   ],
   "source": [
    "reg = linear_model.LinearRegression()\n",
    "reg.fit(X_train, Y_train)"
   ]
  },
  {
   "cell_type": "code",
   "execution_count": 8,
   "metadata": {},
   "outputs": [
    {
     "data": {
      "text/plain": [
       "array([[  1.11662816e+15,   1.11662816e+15,   1.11662816e+15,\n",
       "          1.11662816e+15,   1.11662816e+15,   1.11662816e+15,\n",
       "          1.11662816e+15,   1.11662816e+15,   1.11662816e+15,\n",
       "         -3.06793563e+04,  -3.88906757e+04,  -2.47649511e+04,\n",
       "         -3.11749084e+04,  -3.43714816e+04,  -3.11731745e+04,\n",
       "         -3.04889916e+04,  -4.16870401e+04,  -3.44453680e+04,\n",
       "         -3.00596763e+04,   1.24907058e+04,   1.48963605e+04,\n",
       "          1.27108703e+04,   2.25081998e+04,   2.50801657e+04,\n",
       "          1.60833002e+04,   3.56026912e+04,   1.56522880e+04,\n",
       "          2.63361098e+04,  -1.77794661e+03,   4.13430024e+04,\n",
       "         -1.92147190e+04,   1.31680065e+04,   1.57537654e+04,\n",
       "          2.78490389e+04,   1.86269465e+04,   2.95513356e+04,\n",
       "          2.34753952e+04,   2.10815432e+04,   2.78785644e+04,\n",
       "          3.28119805e+04,   3.00869229e+04,  -1.45284758e+04,\n",
       "          4.12339645e+04,  -1.05063320e+04,  -4.37833194e+03,\n",
       "         -1.79162514e+03,   2.66697217e+03,   2.70314438e+03,\n",
       "          1.09302069e+04,   8.31288317e+03,  -2.03988092e+04]])"
      ]
     },
     "execution_count": 8,
     "metadata": {},
     "output_type": "execute_result"
    }
   ],
   "source": [
    "reg.coef_"
   ]
  },
  {
   "cell_type": "code",
   "execution_count": 24,
   "metadata": {},
   "outputs": [
    {
     "data": {
      "text/plain": [
       "0.30649764966159265"
      ]
     },
     "execution_count": 24,
     "metadata": {},
     "output_type": "execute_result"
    }
   ],
   "source": [
    "reg.score(X_test, Y_test)"
   ]
  },
  {
   "cell_type": "code",
   "execution_count": null,
   "metadata": {
    "collapsed": true
   },
   "outputs": [],
   "source": []
  }
 ],
 "metadata": {
  "kernelspec": {
   "display_name": "Python 3",
   "language": "python",
   "name": "python3"
  },
  "language_info": {
   "codemirror_mode": {
    "name": "ipython",
    "version": 3
   },
   "file_extension": ".py",
   "mimetype": "text/x-python",
   "name": "python",
   "nbconvert_exporter": "python",
   "pygments_lexer": "ipython3",
   "version": "3.6.0"
  }
 },
 "nbformat": 4,
 "nbformat_minor": 2
}

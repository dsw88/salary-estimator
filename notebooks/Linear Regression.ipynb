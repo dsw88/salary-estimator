{
 "cells": [
  {
   "cell_type": "markdown",
   "metadata": {},
   "source": [
    "First, load our prepared data from the StackOverflow survey:"
   ]
  },
  {
   "cell_type": "code",
   "execution_count": 12,
   "metadata": {
    "collapsed": true
   },
   "outputs": [],
   "source": [
    "import pandas as pd\n",
    "import numpy as np\n",
    "from sklearn import preprocessing\n",
    "from sklearn import linear_model\n",
    "from sklearn.model_selection import train_test_split\n",
    "\n",
    "salary_features = pd.read_csv(\"../prepared-data/salary_features.csv\")\n",
    "salary_labels = pd.read_csv(\"../prepared-data/salary_labels.csv\")"
   ]
  },
  {
   "cell_type": "code",
   "execution_count": 13,
   "metadata": {
    "collapsed": true
   },
   "outputs": [],
   "source": [
    "X_encoded = pd.get_dummies(salary_features)\n",
    "X_train, X_test, Y_train, Y_test = train_test_split(X_encoded, salary_labels, test_size=0.2, train_size=0.8)"
   ]
  },
  {
   "cell_type": "code",
   "execution_count": 14,
   "metadata": {},
   "outputs": [
    {
     "data": {
      "text/html": [
       "<div>\n",
       "<style>\n",
       "    .dataframe thead tr:only-child th {\n",
       "        text-align: right;\n",
       "    }\n",
       "\n",
       "    .dataframe thead th {\n",
       "        text-align: left;\n",
       "    }\n",
       "\n",
       "    .dataframe tbody tr th {\n",
       "        vertical-align: top;\n",
       "    }\n",
       "</style>\n",
       "<table border=\"1\" class=\"dataframe\">\n",
       "  <thead>\n",
       "    <tr style=\"text-align: right;\">\n",
       "      <th></th>\n",
       "      <th>FormalEducation_Bachelor's degree</th>\n",
       "      <th>FormalEducation_Doctoral degree</th>\n",
       "      <th>FormalEducation_I never completed any formal education</th>\n",
       "      <th>FormalEducation_I prefer not to answer</th>\n",
       "      <th>FormalEducation_Master's degree</th>\n",
       "      <th>FormalEducation_Primary/elementary school</th>\n",
       "      <th>FormalEducation_Professional degree</th>\n",
       "      <th>FormalEducation_Secondary school</th>\n",
       "      <th>FormalEducation_Some college/university study without earning a bachelor's degree</th>\n",
       "      <th>CompanySize_1,000 to 4,999 employees</th>\n",
       "      <th>...</th>\n",
       "      <th>YearsCodedJob_2 to 3 years</th>\n",
       "      <th>YearsCodedJob_20 or more years</th>\n",
       "      <th>YearsCodedJob_3 to 4 years</th>\n",
       "      <th>YearsCodedJob_4 to 5 years</th>\n",
       "      <th>YearsCodedJob_5 to 6 years</th>\n",
       "      <th>YearsCodedJob_6 to 7 years</th>\n",
       "      <th>YearsCodedJob_7 to 8 years</th>\n",
       "      <th>YearsCodedJob_8 to 9 years</th>\n",
       "      <th>YearsCodedJob_9 to 10 years</th>\n",
       "      <th>YearsCodedJob_Less than a year</th>\n",
       "    </tr>\n",
       "  </thead>\n",
       "  <tbody>\n",
       "    <tr>\n",
       "      <th>3563</th>\n",
       "      <td>1</td>\n",
       "      <td>0</td>\n",
       "      <td>0</td>\n",
       "      <td>0</td>\n",
       "      <td>0</td>\n",
       "      <td>0</td>\n",
       "      <td>0</td>\n",
       "      <td>0</td>\n",
       "      <td>0</td>\n",
       "      <td>0</td>\n",
       "      <td>...</td>\n",
       "      <td>1</td>\n",
       "      <td>0</td>\n",
       "      <td>0</td>\n",
       "      <td>0</td>\n",
       "      <td>0</td>\n",
       "      <td>0</td>\n",
       "      <td>0</td>\n",
       "      <td>0</td>\n",
       "      <td>0</td>\n",
       "      <td>0</td>\n",
       "    </tr>\n",
       "    <tr>\n",
       "      <th>2717</th>\n",
       "      <td>0</td>\n",
       "      <td>0</td>\n",
       "      <td>0</td>\n",
       "      <td>0</td>\n",
       "      <td>1</td>\n",
       "      <td>0</td>\n",
       "      <td>0</td>\n",
       "      <td>0</td>\n",
       "      <td>0</td>\n",
       "      <td>1</td>\n",
       "      <td>...</td>\n",
       "      <td>0</td>\n",
       "      <td>0</td>\n",
       "      <td>0</td>\n",
       "      <td>0</td>\n",
       "      <td>0</td>\n",
       "      <td>0</td>\n",
       "      <td>0</td>\n",
       "      <td>0</td>\n",
       "      <td>1</td>\n",
       "      <td>0</td>\n",
       "    </tr>\n",
       "    <tr>\n",
       "      <th>8919</th>\n",
       "      <td>0</td>\n",
       "      <td>0</td>\n",
       "      <td>0</td>\n",
       "      <td>0</td>\n",
       "      <td>0</td>\n",
       "      <td>0</td>\n",
       "      <td>0</td>\n",
       "      <td>0</td>\n",
       "      <td>1</td>\n",
       "      <td>0</td>\n",
       "      <td>...</td>\n",
       "      <td>0</td>\n",
       "      <td>0</td>\n",
       "      <td>0</td>\n",
       "      <td>0</td>\n",
       "      <td>0</td>\n",
       "      <td>0</td>\n",
       "      <td>0</td>\n",
       "      <td>0</td>\n",
       "      <td>0</td>\n",
       "      <td>0</td>\n",
       "    </tr>\n",
       "    <tr>\n",
       "      <th>8799</th>\n",
       "      <td>0</td>\n",
       "      <td>0</td>\n",
       "      <td>0</td>\n",
       "      <td>0</td>\n",
       "      <td>0</td>\n",
       "      <td>0</td>\n",
       "      <td>0</td>\n",
       "      <td>1</td>\n",
       "      <td>0</td>\n",
       "      <td>0</td>\n",
       "      <td>...</td>\n",
       "      <td>0</td>\n",
       "      <td>0</td>\n",
       "      <td>0</td>\n",
       "      <td>0</td>\n",
       "      <td>0</td>\n",
       "      <td>0</td>\n",
       "      <td>0</td>\n",
       "      <td>0</td>\n",
       "      <td>0</td>\n",
       "      <td>1</td>\n",
       "    </tr>\n",
       "    <tr>\n",
       "      <th>12333</th>\n",
       "      <td>1</td>\n",
       "      <td>0</td>\n",
       "      <td>0</td>\n",
       "      <td>0</td>\n",
       "      <td>0</td>\n",
       "      <td>0</td>\n",
       "      <td>0</td>\n",
       "      <td>0</td>\n",
       "      <td>0</td>\n",
       "      <td>0</td>\n",
       "      <td>...</td>\n",
       "      <td>0</td>\n",
       "      <td>0</td>\n",
       "      <td>0</td>\n",
       "      <td>0</td>\n",
       "      <td>0</td>\n",
       "      <td>0</td>\n",
       "      <td>0</td>\n",
       "      <td>0</td>\n",
       "      <td>0</td>\n",
       "      <td>0</td>\n",
       "    </tr>\n",
       "  </tbody>\n",
       "</table>\n",
       "<p>5 rows × 51 columns</p>\n",
       "</div>"
      ],
      "text/plain": [
       "       FormalEducation_Bachelor's degree  FormalEducation_Doctoral degree  \\\n",
       "3563                                   1                                0   \n",
       "2717                                   0                                0   \n",
       "8919                                   0                                0   \n",
       "8799                                   0                                0   \n",
       "12333                                  1                                0   \n",
       "\n",
       "       FormalEducation_I never completed any formal education  \\\n",
       "3563                                                   0        \n",
       "2717                                                   0        \n",
       "8919                                                   0        \n",
       "8799                                                   0        \n",
       "12333                                                  0        \n",
       "\n",
       "       FormalEducation_I prefer not to answer  \\\n",
       "3563                                        0   \n",
       "2717                                        0   \n",
       "8919                                        0   \n",
       "8799                                        0   \n",
       "12333                                       0   \n",
       "\n",
       "       FormalEducation_Master's degree  \\\n",
       "3563                                 0   \n",
       "2717                                 1   \n",
       "8919                                 0   \n",
       "8799                                 0   \n",
       "12333                                0   \n",
       "\n",
       "       FormalEducation_Primary/elementary school  \\\n",
       "3563                                           0   \n",
       "2717                                           0   \n",
       "8919                                           0   \n",
       "8799                                           0   \n",
       "12333                                          0   \n",
       "\n",
       "       FormalEducation_Professional degree  FormalEducation_Secondary school  \\\n",
       "3563                                     0                                 0   \n",
       "2717                                     0                                 0   \n",
       "8919                                     0                                 0   \n",
       "8799                                     0                                 1   \n",
       "12333                                    0                                 0   \n",
       "\n",
       "       FormalEducation_Some college/university study without earning a bachelor's degree  \\\n",
       "3563                                                   0                                   \n",
       "2717                                                   0                                   \n",
       "8919                                                   1                                   \n",
       "8799                                                   0                                   \n",
       "12333                                                  0                                   \n",
       "\n",
       "       CompanySize_1,000 to 4,999 employees               ...                \\\n",
       "3563                                      0               ...                 \n",
       "2717                                      1               ...                 \n",
       "8919                                      0               ...                 \n",
       "8799                                      0               ...                 \n",
       "12333                                     0               ...                 \n",
       "\n",
       "       YearsCodedJob_2 to 3 years  YearsCodedJob_20 or more years  \\\n",
       "3563                            1                               0   \n",
       "2717                            0                               0   \n",
       "8919                            0                               0   \n",
       "8799                            0                               0   \n",
       "12333                           0                               0   \n",
       "\n",
       "       YearsCodedJob_3 to 4 years  YearsCodedJob_4 to 5 years  \\\n",
       "3563                            0                           0   \n",
       "2717                            0                           0   \n",
       "8919                            0                           0   \n",
       "8799                            0                           0   \n",
       "12333                           0                           0   \n",
       "\n",
       "       YearsCodedJob_5 to 6 years  YearsCodedJob_6 to 7 years  \\\n",
       "3563                            0                           0   \n",
       "2717                            0                           0   \n",
       "8919                            0                           0   \n",
       "8799                            0                           0   \n",
       "12333                           0                           0   \n",
       "\n",
       "       YearsCodedJob_7 to 8 years  YearsCodedJob_8 to 9 years  \\\n",
       "3563                            0                           0   \n",
       "2717                            0                           0   \n",
       "8919                            0                           0   \n",
       "8799                            0                           0   \n",
       "12333                           0                           0   \n",
       "\n",
       "       YearsCodedJob_9 to 10 years  YearsCodedJob_Less than a year  \n",
       "3563                             0                               0  \n",
       "2717                             1                               0  \n",
       "8919                             0                               0  \n",
       "8799                             0                               1  \n",
       "12333                            0                               0  \n",
       "\n",
       "[5 rows x 51 columns]"
      ]
     },
     "execution_count": 14,
     "metadata": {},
     "output_type": "execute_result"
    }
   ],
   "source": [
    "X_train.head(5)"
   ]
  },
  {
   "cell_type": "code",
   "execution_count": 15,
   "metadata": {},
   "outputs": [
    {
     "data": {
      "text/html": [
       "<div>\n",
       "<style>\n",
       "    .dataframe thead tr:only-child th {\n",
       "        text-align: right;\n",
       "    }\n",
       "\n",
       "    .dataframe thead th {\n",
       "        text-align: left;\n",
       "    }\n",
       "\n",
       "    .dataframe tbody tr th {\n",
       "        vertical-align: top;\n",
       "    }\n",
       "</style>\n",
       "<table border=\"1\" class=\"dataframe\">\n",
       "  <thead>\n",
       "    <tr style=\"text-align: right;\">\n",
       "      <th></th>\n",
       "      <th>Salary</th>\n",
       "    </tr>\n",
       "  </thead>\n",
       "  <tbody>\n",
       "    <tr>\n",
       "      <th>3563</th>\n",
       "      <td>105000.000000</td>\n",
       "    </tr>\n",
       "    <tr>\n",
       "      <th>2717</th>\n",
       "      <td>59139.784946</td>\n",
       "    </tr>\n",
       "    <tr>\n",
       "      <th>8919</th>\n",
       "      <td>3225.806452</td>\n",
       "    </tr>\n",
       "    <tr>\n",
       "      <th>8799</th>\n",
       "      <td>34090.909091</td>\n",
       "    </tr>\n",
       "    <tr>\n",
       "      <th>12333</th>\n",
       "      <td>92000.000000</td>\n",
       "    </tr>\n",
       "  </tbody>\n",
       "</table>\n",
       "</div>"
      ],
      "text/plain": [
       "              Salary\n",
       "3563   105000.000000\n",
       "2717    59139.784946\n",
       "8919     3225.806452\n",
       "8799    34090.909091\n",
       "12333   92000.000000"
      ]
     },
     "execution_count": 15,
     "metadata": {},
     "output_type": "execute_result"
    }
   ],
   "source": [
    "Y_train.head(5)"
   ]
  },
  {
   "cell_type": "code",
   "execution_count": 20,
   "metadata": {},
   "outputs": [
    {
     "name": "stdout",
     "output_type": "stream",
     "text": [
      "(10312, 51)\n",
      "(10312, 1)\n",
      "(2579, 51)\n",
      "(2579, 1)\n"
     ]
    }
   ],
   "source": [
    "print(X_train.shape)\n",
    "print(Y_train.shape)\n",
    "print(X_test.shape)\n",
    "print(Y_test.shape)\n",
    "\n",
    "# 51 features after one-hot encoding the categorical values (this may vary based on the data)"
   ]
  },
  {
   "cell_type": "code",
   "execution_count": 21,
   "metadata": {},
   "outputs": [
    {
     "data": {
      "text/plain": [
       "LinearRegression(copy_X=True, fit_intercept=True, n_jobs=1, normalize=False)"
      ]
     },
     "execution_count": 21,
     "metadata": {},
     "output_type": "execute_result"
    }
   ],
   "source": [
    "reg = linear_model.LinearRegression()\n",
    "reg.fit(X_train, Y_train)"
   ]
  },
  {
   "cell_type": "code",
   "execution_count": 22,
   "metadata": {},
   "outputs": [
    {
     "data": {
      "text/plain": [
       "array([[ -3.21978675e+16,  -3.21978675e+16,  -3.21978675e+16,\n",
       "         -3.21978675e+16,  -3.21978675e+16,  -3.21978675e+16,\n",
       "         -3.21978675e+16,  -3.21978675e+16,  -3.21978675e+16,\n",
       "         -2.14006659e+04,  -2.99259086e+04,  -1.56051560e+04,\n",
       "         -2.18752961e+04,  -2.61911012e+04,  -2.07909684e+04,\n",
       "         -2.14569474e+04,  -3.22941384e+04,  -2.57475593e+04,\n",
       "         -2.42340098e+04,   1.88166115e+04,   2.23678490e+04,\n",
       "          2.08923532e+04,   2.63733132e+04,   2.90237705e+04,\n",
       "          2.17541023e+04,   4.04621096e+04,   2.01733216e+04,\n",
       "          2.87794092e+04,   2.95177567e+03,   4.68532942e+04,\n",
       "         -2.07736195e+04,   1.14623339e+04,   1.46227262e+04,\n",
       "          2.17854306e+04,   1.96357225e+04,   2.86606994e+04,\n",
       "          2.20078822e+04,   1.92179798e+04,   2.74498471e+04,\n",
       "          3.00053702e+04,   2.85299482e+04,  -1.69173589e+04,\n",
       "          3.90221839e+04,  -1.17044951e+04,  -5.94795658e+03,\n",
       "         -3.74507283e+03,   7.43923729e+02,   2.46367563e+03,\n",
       "          8.27878516e+03,   7.94275238e+03,  -2.22676978e+04]])"
      ]
     },
     "execution_count": 22,
     "metadata": {},
     "output_type": "execute_result"
    }
   ],
   "source": [
    "reg.coef_"
   ]
  },
  {
   "cell_type": "code",
   "execution_count": 24,
   "metadata": {},
   "outputs": [
    {
     "data": {
      "text/plain": [
       "0.31166799679877466"
      ]
     },
     "execution_count": 24,
     "metadata": {},
     "output_type": "execute_result"
    }
   ],
   "source": [
    "reg.score(X_test, Y_test)"
   ]
  },
  {
   "cell_type": "code",
   "execution_count": null,
   "metadata": {
    "collapsed": true
   },
   "outputs": [],
   "source": []
  }
 ],
 "metadata": {
  "kernelspec": {
   "display_name": "Python 3",
   "language": "python",
   "name": "python3"
  },
  "language_info": {
   "codemirror_mode": {
    "name": "ipython",
    "version": 3
   },
   "file_extension": ".py",
   "mimetype": "text/x-python",
   "name": "python",
   "nbconvert_exporter": "python",
   "pygments_lexer": "ipython3",
   "version": "3.6.0"
  }
 },
 "nbformat": 4,
 "nbformat_minor": 2
}
